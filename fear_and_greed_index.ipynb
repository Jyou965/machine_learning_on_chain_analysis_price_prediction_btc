{
 "cells": [
  {
   "cell_type": "code",
   "execution_count": 7,
   "id": "3300221d-7f81-47a2-bec4-d232ab9a7c9f",
   "metadata": {},
   "outputs": [],
   "source": [
    "import pandas as pd\n",
    "import requests\n",
    "import json"
   ]
  },
  {
   "cell_type": "code",
   "execution_count": 27,
   "id": "f19c146e-9d0c-4f26-9135-775e1b4f748b",
   "metadata": {},
   "outputs": [
    {
     "data": {
      "text/plain": [
       "{'name': 'Fear and Greed Index',\n",
       " 'data': [{'value': '20',\n",
       "   'value_classification': 'Extreme Fear',\n",
       "   'timestamp': '1625961600',\n",
       "   'time_until_update': '2866'}],\n",
       " 'metadata': {'error': None}}"
      ]
     },
     "execution_count": 27,
     "metadata": {},
     "output_type": "execute_result"
    }
   ],
   "source": [
    "    \"\"\"\n",
    "    Retrieves the current Bitcoin Fear & Greed Index from the alternative.me Crypto API.\n",
    "    \"\"\"\n",
    "    fgi_url = \"https://api.alternative.me/fng/\"\n",
    "    fgi_response = requests.get(fgi_url).json()\n",
    "    fgi_response"
   ]
  },
  {
   "cell_type": "code",
   "execution_count": 25,
   "id": "9e304d5a-6032-41ee-b975-988f90e1b114",
   "metadata": {},
   "outputs": [
    {
     "data": {
      "text/plain": [
       "['name', 'data', 'metadata']"
      ]
     },
     "execution_count": 25,
     "metadata": {},
     "output_type": "execute_result"
    }
   ],
   "source": [
    "list(requests.get(fgi_url).json())"
   ]
  },
  {
   "cell_type": "code",
   "execution_count": 60,
   "id": "27c802ca-57ba-4391-bac3-bbec89f3a4fa",
   "metadata": {},
   "outputs": [],
   "source": [
    "df = pd.DataFrame.from_dict(fgi_response, orient='index')"
   ]
  },
  {
   "cell_type": "code",
   "execution_count": 63,
   "id": "0ec637af-cfbd-4448-9147-1c78ca96f483",
   "metadata": {},
   "outputs": [
    {
     "data": {
      "text/html": [
       "<div>\n",
       "<style scoped>\n",
       "    .dataframe tbody tr th:only-of-type {\n",
       "        vertical-align: middle;\n",
       "    }\n",
       "\n",
       "    .dataframe tbody tr th {\n",
       "        vertical-align: top;\n",
       "    }\n",
       "\n",
       "    .dataframe thead th {\n",
       "        text-align: right;\n",
       "    }\n",
       "</style>\n",
       "<table border=\"1\" class=\"dataframe\">\n",
       "  <thead>\n",
       "    <tr style=\"text-align: right;\">\n",
       "      <th></th>\n",
       "      <th>name</th>\n",
       "      <th>data</th>\n",
       "      <th>metadata.error</th>\n",
       "    </tr>\n",
       "  </thead>\n",
       "  <tbody>\n",
       "    <tr>\n",
       "      <th>0</th>\n",
       "      <td>Fear and Greed Index</td>\n",
       "      <td>[{'value': '20', 'value_classification': 'Extr...</td>\n",
       "      <td>None</td>\n",
       "    </tr>\n",
       "  </tbody>\n",
       "</table>\n",
       "</div>"
      ],
      "text/plain": [
       "                   name                                               data  \\\n",
       "0  Fear and Greed Index  [{'value': '20', 'value_classification': 'Extr...   \n",
       "\n",
       "  metadata.error  \n",
       "0           None  "
      ]
     },
     "execution_count": 63,
     "metadata": {},
     "output_type": "execute_result"
    }
   ],
   "source": [
    "pd.json_normalize(fgi_response, max_level=1)"
   ]
  },
  {
   "cell_type": "code",
   "execution_count": null,
   "id": "0b5eb3cb-e4ae-4a51-adcc-a2e0eb27d9fc",
   "metadata": {},
   "outputs": [],
   "source": []
  }
 ],
 "metadata": {
  "kernelspec": {
   "display_name": "Python 3",
   "language": "python",
   "name": "python3"
  },
  "language_info": {
   "codemirror_mode": {
    "name": "ipython",
    "version": 3
   },
   "file_extension": ".py",
   "mimetype": "text/x-python",
   "name": "python",
   "nbconvert_exporter": "python",
   "pygments_lexer": "ipython3",
   "version": "3.7.10"
  }
 },
 "nbformat": 4,
 "nbformat_minor": 5
}
